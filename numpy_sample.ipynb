{
  "nbformat": 4,
  "nbformat_minor": 0,
  "metadata": {
    "kernelspec": {
      "display_name": "Python 3",
      "language": "python",
      "name": "python3"
    },
    "language_info": {
      "codemirror_mode": {
        "name": "ipython",
        "version": 3
      },
      "file_extension": ".py",
      "mimetype": "text/x-python",
      "name": "python",
      "nbconvert_exporter": "python",
      "pygments_lexer": "ipython3",
      "version": "3.8.5"
    },
    "colab": {
      "name": "numpy_sample.ipynb",
      "provenance": []
    }
  },
  "cells": [
    {
      "cell_type": "markdown",
      "metadata": {
        "id": "9HLygUQ5VNiT"
      },
      "source": [
        "# test1 sample: Numpy"
      ]
    },
    {
      "cell_type": "markdown",
      "metadata": {
        "id": "fhSPICzqVNid"
      },
      "source": [
        "`import nupy as np`でnumpyパッケージをインポート"
      ]
    },
    {
      "cell_type": "code",
      "metadata": {
        "id": "uAe7-DWVVNie"
      },
      "source": [
        "import numpy as np\n"
      ],
      "execution_count": 1,
      "outputs": []
    },
    {
      "cell_type": "code",
      "metadata": {
        "colab": {
          "base_uri": "https://localhost:8080/"
        },
        "id": "Jae3T2lmVNif",
        "outputId": "cbcd3949-6eb4-408d-dbf8-ccab0611b782"
      },
      "source": [
        "sampleArray = np.arange(15).reshape(3, 5)\n",
        "print(\"sample array\", sampleArray)"
      ],
      "execution_count": 2,
      "outputs": [
        {
          "output_type": "stream",
          "text": [
            "sample array [[ 0  1  2  3  4]\n",
            " [ 5  6  7  8  9]\n",
            " [10 11 12 13 14]]\n"
          ],
          "name": "stdout"
        }
      ]
    },
    {
      "cell_type": "code",
      "metadata": {
        "colab": {
          "base_uri": "https://localhost:8080/"
        },
        "id": "wlOLkbtmVNig",
        "outputId": "e860bf08-a4ae-4573-af5d-4589a3c4472c"
      },
      "source": [
        "type(sampleArray)"
      ],
      "execution_count": 3,
      "outputs": [
        {
          "output_type": "execute_result",
          "data": {
            "text/plain": [
              "numpy.ndarray"
            ]
          },
          "metadata": {
            "tags": []
          },
          "execution_count": 3
        }
      ]
    },
    {
      "cell_type": "markdown",
      "metadata": {
        "id": "H3Sx9yhhVNih"
      },
      "source": [
        "`shape`は多次元配列の形(各次元の要素数)を取得"
      ]
    },
    {
      "cell_type": "code",
      "metadata": {
        "colab": {
          "base_uri": "https://localhost:8080/"
        },
        "id": "tApv7gPSVNih",
        "outputId": "f36fda08-3ca4-4e37-ad17-4348b9c0835c"
      },
      "source": [
        "sampleArray.shape"
      ],
      "execution_count": 4,
      "outputs": [
        {
          "output_type": "execute_result",
          "data": {
            "text/plain": [
              "(3, 5)"
            ]
          },
          "metadata": {
            "tags": []
          },
          "execution_count": 4
        }
      ]
    },
    {
      "cell_type": "markdown",
      "metadata": {
        "id": "nQKKv6OJVNii"
      },
      "source": [
        "`ndim`は次元を取得"
      ]
    },
    {
      "cell_type": "code",
      "metadata": {
        "colab": {
          "base_uri": "https://localhost:8080/"
        },
        "id": "evgFKD7UVNii",
        "outputId": "524641ec-c430-42ac-d001-f1f52989edb4"
      },
      "source": [
        "sampleArray.ndim"
      ],
      "execution_count": 5,
      "outputs": [
        {
          "output_type": "execute_result",
          "data": {
            "text/plain": [
              "2"
            ]
          },
          "metadata": {
            "tags": []
          },
          "execution_count": 5
        }
      ]
    },
    {
      "cell_type": "markdown",
      "metadata": {
        "id": "FGoRPAdRVNii"
      },
      "source": [
        "`dtype`で型を取得"
      ]
    },
    {
      "cell_type": "code",
      "metadata": {
        "colab": {
          "base_uri": "https://localhost:8080/"
        },
        "id": "YtKA4YE4VNij",
        "outputId": "0b59d1b9-820f-4009-f066-c196ef5c0209"
      },
      "source": [
        "sampleArray.dtype"
      ],
      "execution_count": 6,
      "outputs": [
        {
          "output_type": "execute_result",
          "data": {
            "text/plain": [
              "dtype('int64')"
            ]
          },
          "metadata": {
            "tags": []
          },
          "execution_count": 6
        }
      ]
    },
    {
      "cell_type": "markdown",
      "metadata": {
        "id": "esseeQL_VNij"
      },
      "source": [
        "`itemsize` で要素1個のバイト長を取得"
      ]
    },
    {
      "cell_type": "code",
      "metadata": {
        "colab": {
          "base_uri": "https://localhost:8080/"
        },
        "id": "RHcxgyvPYH-4",
        "outputId": "8e63e8bf-929a-4352-d224-3da918cd9044"
      },
      "source": [
        "sampleArray.itemsize"
      ],
      "execution_count": 8,
      "outputs": [
        {
          "output_type": "execute_result",
          "data": {
            "text/plain": [
              "8"
            ]
          },
          "metadata": {
            "tags": []
          },
          "execution_count": 8
        }
      ]
    },
    {
      "cell_type": "markdown",
      "metadata": {
        "id": "LGzz6KusVNik"
      },
      "source": [
        "`size` で全体の要素数を取得"
      ]
    },
    {
      "cell_type": "code",
      "metadata": {
        "colab": {
          "base_uri": "https://localhost:8080/"
        },
        "id": "PfWP4DlYVNik",
        "outputId": "c51ace13-4942-4258-f08b-0fced92bbd52"
      },
      "source": [
        "sampleArray.size"
      ],
      "execution_count": 7,
      "outputs": [
        {
          "output_type": "execute_result",
          "data": {
            "text/plain": [
              "15"
            ]
          },
          "metadata": {
            "tags": []
          },
          "execution_count": 7
        }
      ]
    },
    {
      "cell_type": "markdown",
      "metadata": {
        "id": "MU6GdD43VNik"
      },
      "source": [
        "`array` でpython配列から配列生成。"
      ]
    },
    {
      "cell_type": "code",
      "metadata": {
        "colab": {
          "base_uri": "https://localhost:8080/"
        },
        "id": "G1PBtUUAVNik",
        "outputId": "4f673cad-c534-495e-bd28-03985909003c"
      },
      "source": [
        "np.array([3, 5, 6])"
      ],
      "execution_count": 9,
      "outputs": [
        {
          "output_type": "execute_result",
          "data": {
            "text/plain": [
              "array([3, 5, 6])"
            ]
          },
          "metadata": {
            "tags": []
          },
          "execution_count": 9
        }
      ]
    },
    {
      "cell_type": "code",
      "metadata": {
        "id": "-YRNv41OVNil",
        "outputId": "e05ff31b-3bd6-4f86-c12b-f66d1589b6e8"
      },
      "source": [
        "np.array([3, 5, 6]).dtype"
      ],
      "execution_count": null,
      "outputs": [
        {
          "output_type": "execute_result",
          "data": {
            "text/plain": [
              "dtype('int32')"
            ]
          },
          "metadata": {
            "tags": []
          },
          "execution_count": 18
        }
      ]
    },
    {
      "cell_type": "markdown",
      "metadata": {
        "id": "SWBzwvrGVNil"
      },
      "source": [
        "型は自動的に決定される"
      ]
    },
    {
      "cell_type": "code",
      "metadata": {
        "colab": {
          "base_uri": "https://localhost:8080/"
        },
        "id": "T39GKyKeVNil",
        "outputId": "42287f74-42db-4a09-8dd5-834d852a9202"
      },
      "source": [
        "np.array([2, 3.2, 4.3])"
      ],
      "execution_count": 10,
      "outputs": [
        {
          "output_type": "execute_result",
          "data": {
            "text/plain": [
              "array([2. , 3.2, 4.3])"
            ]
          },
          "metadata": {
            "tags": []
          },
          "execution_count": 10
        }
      ]
    },
    {
      "cell_type": "code",
      "metadata": {
        "colab": {
          "base_uri": "https://localhost:8080/"
        },
        "id": "2Ig4VTFuVNim",
        "outputId": "21721bd4-0e06-4cc4-f685-52d13a1fbf97"
      },
      "source": [
        "np.array([2, 3.2, 4.3]).dtype"
      ],
      "execution_count": 11,
      "outputs": [
        {
          "output_type": "execute_result",
          "data": {
            "text/plain": [
              "dtype('float64')"
            ]
          },
          "metadata": {
            "tags": []
          },
          "execution_count": 11
        }
      ]
    },
    {
      "cell_type": "markdown",
      "metadata": {
        "id": "848t_OoxVNim"
      },
      "source": [
        "明示的な型指定も可能"
      ]
    },
    {
      "cell_type": "code",
      "metadata": {
        "colab": {
          "base_uri": "https://localhost:8080/"
        },
        "id": "_UPQ1LS2VNim",
        "outputId": "9a0271c9-cb3e-4eab-c2c0-2e55f0118215"
      },
      "source": [
        "np.array([1, 2, 3], dtype=complex)"
      ],
      "execution_count": 12,
      "outputs": [
        {
          "output_type": "execute_result",
          "data": {
            "text/plain": [
              "array([1.+0.j, 2.+0.j, 3.+0.j])"
            ]
          },
          "metadata": {
            "tags": []
          },
          "execution_count": 12
        }
      ]
    },
    {
      "cell_type": "markdown",
      "metadata": {
        "id": "TtVJMoIGVNim"
      },
      "source": [
        "引数はタプルでもよい"
      ]
    },
    {
      "cell_type": "code",
      "metadata": {
        "colab": {
          "base_uri": "https://localhost:8080/"
        },
        "id": "-tstb9-IVNin",
        "outputId": "0298376b-17b8-49ac-ed5d-3e20cc5f4b69"
      },
      "source": [
        "np.array((4, 5, 3))"
      ],
      "execution_count": 13,
      "outputs": [
        {
          "output_type": "execute_result",
          "data": {
            "text/plain": [
              "array([4, 5, 3])"
            ]
          },
          "metadata": {
            "tags": []
          },
          "execution_count": 13
        }
      ]
    },
    {
      "cell_type": "markdown",
      "metadata": {
        "id": "NHE7fHGKVNin"
      },
      "source": [
        "多次元配列もサポート"
      ]
    },
    {
      "cell_type": "code",
      "metadata": {
        "colab": {
          "base_uri": "https://localhost:8080/"
        },
        "id": "qnXLSNNTVNin",
        "outputId": "aed0b618-77ef-4435-e5d2-a2dad67db635"
      },
      "source": [
        "np.array([[1, 2, 3], [4, 5, 6] ])"
      ],
      "execution_count": 14,
      "outputs": [
        {
          "output_type": "execute_result",
          "data": {
            "text/plain": [
              "array([[1, 2, 3],\n",
              "       [4, 5, 6]])"
            ]
          },
          "metadata": {
            "tags": []
          },
          "execution_count": 14
        }
      ]
    },
    {
      "cell_type": "markdown",
      "metadata": {
        "id": "Xd5M792XZpmB"
      },
      "source": [
        "複素数配列も作れる"
      ]
    },
    {
      "cell_type": "code",
      "metadata": {
        "colab": {
          "base_uri": "https://localhost:8080/"
        },
        "id": "fdHMVTI7ZwJQ",
        "outputId": "99608657-3b60-4d20-8289-12d837b632e3"
      },
      "source": [
        "np.array([2, 4, 6, 2], dtype=\"complex\")"
      ],
      "execution_count": 16,
      "outputs": [
        {
          "output_type": "execute_result",
          "data": {
            "text/plain": [
              "array([2.+0.j, 4.+0.j, 6.+0.j, 2.+0.j])"
            ]
          },
          "metadata": {
            "tags": []
          },
          "execution_count": 16
        }
      ]
    },
    {
      "cell_type": "markdown",
      "metadata": {
        "id": "vZK6-OwcZ8Zo"
      },
      "source": [
        "zerosで0に初期化した配列、onesで1に初期化した配列、emptyで未初期化(値が不定)の配列が作れる"
      ]
    },
    {
      "cell_type": "code",
      "metadata": {
        "colab": {
          "base_uri": "https://localhost:8080/"
        },
        "id": "e-MeXIb2Zz5I",
        "outputId": "a294809b-3aed-45bf-ab9a-fdb2a7bc2ce9"
      },
      "source": [
        "np.zeros((3, 4))"
      ],
      "execution_count": 17,
      "outputs": [
        {
          "output_type": "execute_result",
          "data": {
            "text/plain": [
              "array([[0., 0., 0., 0.],\n",
              "       [0., 0., 0., 0.],\n",
              "       [0., 0., 0., 0.]])"
            ]
          },
          "metadata": {
            "tags": []
          },
          "execution_count": 17
        }
      ]
    },
    {
      "cell_type": "code",
      "metadata": {
        "colab": {
          "base_uri": "https://localhost:8080/"
        },
        "id": "hqF4lNb1aQzn",
        "outputId": "556b31df-a218-4f91-868c-90516a8b6ba8"
      },
      "source": [
        "np.ones((3, 4))"
      ],
      "execution_count": 18,
      "outputs": [
        {
          "output_type": "execute_result",
          "data": {
            "text/plain": [
              "array([[1., 1., 1., 1.],\n",
              "       [1., 1., 1., 1.],\n",
              "       [1., 1., 1., 1.]])"
            ]
          },
          "metadata": {
            "tags": []
          },
          "execution_count": 18
        }
      ]
    },
    {
      "cell_type": "code",
      "metadata": {
        "colab": {
          "base_uri": "https://localhost:8080/"
        },
        "id": "rfjBymhJaSye",
        "outputId": "eb65ef04-2041-422b-85bd-1dda01911f01"
      },
      "source": [
        "np.empty((3, 4))"
      ],
      "execution_count": 19,
      "outputs": [
        {
          "output_type": "execute_result",
          "data": {
            "text/plain": [
              "array([[1., 1., 1., 1.],\n",
              "       [1., 1., 1., 1.],\n",
              "       [1., 1., 1., 1.]])"
            ]
          },
          "metadata": {
            "tags": []
          },
          "execution_count": 19
        }
      ]
    },
    {
      "cell_type": "markdown",
      "metadata": {
        "id": "TqxaVQiRa0Ph"
      },
      "source": [
        "arangeは開始、終了、ステップを指定して配列作成。終了値は含まない。"
      ]
    },
    {
      "cell_type": "code",
      "metadata": {
        "colab": {
          "base_uri": "https://localhost:8080/"
        },
        "id": "1zeb8wpPaUS3",
        "outputId": "48918584-3535-4ad6-a98e-77620e3f0342"
      },
      "source": [
        "np.arange(1, 11, 2)"
      ],
      "execution_count": 20,
      "outputs": [
        {
          "output_type": "execute_result",
          "data": {
            "text/plain": [
              "array([1, 3, 5, 7, 9])"
            ]
          },
          "metadata": {
            "tags": []
          },
          "execution_count": 20
        }
      ]
    },
    {
      "cell_type": "code",
      "metadata": {
        "id": "XY0KDgaCa8tP"
      },
      "source": [
        ""
      ],
      "execution_count": null,
      "outputs": []
    }
  ]
}