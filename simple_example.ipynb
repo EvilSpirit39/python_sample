{
  "nbformat": 4,
  "nbformat_minor": 0,
  "metadata": {
    "colab": {
      "name": "simple_example.ipynb",
      "provenance": []
    },
    "kernelspec": {
      "name": "python3",
      "display_name": "Python 3"
    },
    "language_info": {
      "name": "python"
    }
  },
  "cells": [
    {
      "cell_type": "code",
      "metadata": {
        "colab": {
          "base_uri": "https://localhost:8080/"
        },
        "id": "tV5UZBZKiGwy",
        "outputId": "4e16571f-c733-4ab2-ad39-aa5a03869cfe"
      },
      "source": [
        "1+1"
      ],
      "execution_count": null,
      "outputs": [
        {
          "output_type": "execute_result",
          "data": {
            "text/plain": [
              "2"
            ]
          },
          "metadata": {
            "tags": []
          },
          "execution_count": 1
        }
      ]
    },
    {
      "cell_type": "code",
      "metadata": {
        "colab": {
          "base_uri": "https://localhost:8080/",
          "height": 97
        },
        "id": "iAMyweuxmTxx",
        "outputId": "81078b2c-2e19-48d9-99d2-461606a98125"
      },
      "source": [
        "import io\n",
        "import requests\n",
        "import PIL.Image\n",
        "\n",
        "response = requests.get(\"https://www.python.jp/logo.png\")\n",
        "PIL.Image.open(io.BytesIO(response.content))"
      ],
      "execution_count": null,
      "outputs": [
        {
          "output_type": "execute_result",
          "data": {
            "image/png": "[encoded data removed]",
            "text/plain": [
              "<PIL.PngImagePlugin.PngImageFile image mode=RGBA size=240x80 at 0x7FA5269EBBD0>"
            ]
          },
          "metadata": {
            "tags": []
          },
          "execution_count": 3
        }
      ]
    },
    {
      "cell_type": "code",
      "metadata": {
        "colab": {
          "base_uri": "https://localhost:8080/",
          "height": 265
        },
        "id": "o-SMeoMdsYOK",
        "outputId": "e1de7e92-e0ff-4a15-d131-419cb0ced65d"
      },
      "source": [
        "import matplotlib.pyplot as plt\n",
        "\n",
        "x_values = [\"Jan\", \"Feb\", \"Mar\", \"Apr\", \"May\", \"Jun\"]\n",
        "y_values = [100, 130, 80, 150, 140, 130]\n",
        "\n",
        "plt.bar(x_values, y_values)\n",
        "plt.plot()\n",
        "\n",
        "plt.show()"
      ],
      "execution_count": null,
      "outputs": [
        {
          "output_type": "display_data",
          "data": {
            "image/png": "[encoded data removed]",
            "text/plain": [
              "<Figure size 432x288 with 1 Axes>"
            ]
          },
          "metadata": {
            "tags": [],
            "needs_background": "light"
          }
        }
      ]
    },
    {
      "cell_type": "code",
      "metadata": {
        "id": "ZZjqJn5pzJOq",
        "colab": {
          "base_uri": "https://localhost:8080/"
        },
        "outputId": "3978d5c8-7aa4-430f-d09a-d0e2295f994c"
      },
      "source": [
        "100 * 5 + 40 * 8"
      ],
      "execution_count": null,
      "outputs": [
        {
          "output_type": "execute_result",
          "data": {
            "text/plain": [
              "820"
            ]
          },
          "metadata": {
            "tags": []
          },
          "execution_count": 1
        }
      ]
    },
    {
      "cell_type": "markdown",
      "metadata": {
        "id": "T2dkymX9rWpd"
      },
      "source": [
        "四則演算(+-*/)"
      ]
    },
    {
      "cell_type": "code",
      "metadata": {
        "colab": {
          "base_uri": "https://localhost:8080/"
        },
        "id": "9OPV7CzlrM8B",
        "outputId": "998423d7-9638-4c07-cc06-44fd2b4a141e"
      },
      "source": [
        "10 + 5"
      ],
      "execution_count": null,
      "outputs": [
        {
          "output_type": "execute_result",
          "data": {
            "text/plain": [
              "15"
            ]
          },
          "metadata": {
            "tags": []
          },
          "execution_count": 2
        }
      ]
    },
    {
      "cell_type": "code",
      "metadata": {
        "colab": {
          "base_uri": "https://localhost:8080/"
        },
        "id": "Up0Ci0UkrceR",
        "outputId": "d0848c31-b4e2-45ad-d601-3c6cac9e2291"
      },
      "source": [
        "10 - 5"
      ],
      "execution_count": null,
      "outputs": [
        {
          "output_type": "execute_result",
          "data": {
            "text/plain": [
              "5"
            ]
          },
          "metadata": {
            "tags": []
          },
          "execution_count": 3
        }
      ]
    },
    {
      "cell_type": "code",
      "metadata": {
        "colab": {
          "base_uri": "https://localhost:8080/"
        },
        "id": "soBmP54OreH5",
        "outputId": "965d104c-702a-456d-8de1-68eb6d723c65"
      },
      "source": [
        "10 * 5"
      ],
      "execution_count": null,
      "outputs": [
        {
          "output_type": "execute_result",
          "data": {
            "text/plain": [
              "50"
            ]
          },
          "metadata": {
            "tags": []
          },
          "execution_count": 4
        }
      ]
    },
    {
      "cell_type": "code",
      "metadata": {
        "colab": {
          "base_uri": "https://localhost:8080/"
        },
        "id": "FTQOPZkXre-R",
        "outputId": "53a40ca3-087e-4946-e586-ba35bc55b8fb"
      },
      "source": [
        "10 / 5"
      ],
      "execution_count": null,
      "outputs": [
        {
          "output_type": "execute_result",
          "data": {
            "text/plain": [
              "2.0"
            ]
          },
          "metadata": {
            "tags": []
          },
          "execution_count": 5
        }
      ]
    },
    {
      "cell_type": "markdown",
      "metadata": {
        "id": "y6dYZlabsAXR"
      },
      "source": [
        "剰余(%)"
      ]
    },
    {
      "cell_type": "code",
      "metadata": {
        "colab": {
          "base_uri": "https://localhost:8080/"
        },
        "id": "X1Ot0Y1Cr9Ah",
        "outputId": "46ada83d-7c92-4213-efbc-394af00aef8f"
      },
      "source": [
        "10 % 3"
      ],
      "execution_count": null,
      "outputs": [
        {
          "output_type": "execute_result",
          "data": {
            "text/plain": [
              "1"
            ]
          },
          "metadata": {
            "tags": []
          },
          "execution_count": 6
        }
      ]
    },
    {
      "cell_type": "markdown",
      "metadata": {
        "id": "3m69Y5hZttRC"
      },
      "source": [
        "べき乗(**)"
      ]
    },
    {
      "cell_type": "code",
      "metadata": {
        "colab": {
          "base_uri": "https://localhost:8080/"
        },
        "id": "mCuJR2Hyrfrx",
        "outputId": "730077dd-31dd-4289-98e0-d4ca0b81c83c"
      },
      "source": [
        "2 ** 3"
      ],
      "execution_count": null,
      "outputs": [
        {
          "output_type": "execute_result",
          "data": {
            "text/plain": [
              "8"
            ]
          },
          "metadata": {
            "tags": []
          },
          "execution_count": 7
        }
      ]
    },
    {
      "cell_type": "markdown",
      "metadata": {
        "id": "Ec3JoxauuEvi"
      },
      "source": [
        "整数除算 (//)"
      ]
    },
    {
      "cell_type": "code",
      "metadata": {
        "colab": {
          "base_uri": "https://localhost:8080/"
        },
        "id": "U9KwgvQAtw87",
        "outputId": "dad029fe-1204-46d2-a194-b61d8f6123fd"
      },
      "source": [
        "7 // 3"
      ],
      "execution_count": null,
      "outputs": [
        {
          "output_type": "execute_result",
          "data": {
            "text/plain": [
              "2"
            ]
          },
          "metadata": {
            "tags": []
          },
          "execution_count": 8
        }
      ]
    },
    {
      "cell_type": "markdown",
      "metadata": {
        "id": "h25u6krLwDsD"
      },
      "source": [
        "変数への代入操作"
      ]
    },
    {
      "cell_type": "code",
      "metadata": {
        "id": "h9yhh6txuI4o"
      },
      "source": [
        "variable = 30"
      ],
      "execution_count": null,
      "outputs": []
    },
    {
      "cell_type": "code",
      "metadata": {
        "colab": {
          "base_uri": "https://localhost:8080/"
        },
        "id": "BhQaIh5_wG0B",
        "outputId": "38688ac4-5f36-4abc-e030-967b3907a879"
      },
      "source": [
        "variable + 100"
      ],
      "execution_count": null,
      "outputs": [
        {
          "output_type": "execute_result",
          "data": {
            "text/plain": [
              "130"
            ]
          },
          "metadata": {
            "tags": []
          },
          "execution_count": 10
        }
      ]
    },
    {
      "cell_type": "code",
      "metadata": {
        "colab": {
          "base_uri": "https://localhost:8080/"
        },
        "id": "G3tH7iTCwImJ",
        "outputId": "d232a25a-47df-45cf-bb95-89f2e7e00a1c"
      },
      "source": [
        "variable + 120"
      ],
      "execution_count": null,
      "outputs": [
        {
          "output_type": "execute_result",
          "data": {
            "text/plain": [
              "150"
            ]
          },
          "metadata": {
            "tags": []
          },
          "execution_count": 11
        }
      ]
    },
    {
      "cell_type": "markdown",
      "metadata": {
        "id": "fY7-yFKex6JU"
      },
      "source": [
        "シャープで始まる行がコメント"
      ]
    },
    {
      "cell_type": "code",
      "metadata": {
        "colab": {
          "base_uri": "https://localhost:8080/"
        },
        "id": "kPfZFW3hwJtR",
        "outputId": "58806a37-c99d-4c21-e9d4-ff11bcdde152"
      },
      "source": [
        "# この行はコメント\n",
        "1 + 2 + 3"
      ],
      "execution_count": null,
      "outputs": [
        {
          "output_type": "execute_result",
          "data": {
            "text/plain": [
              "6"
            ]
          },
          "metadata": {
            "tags": []
          },
          "execution_count": 12
        }
      ]
    },
    {
      "cell_type": "markdown",
      "metadata": {
        "id": "yLPocAWDy-Ri"
      },
      "source": [
        "関数呼び出し  \n",
        "absは絶対値"
      ]
    },
    {
      "cell_type": "code",
      "metadata": {
        "colab": {
          "base_uri": "https://localhost:8080/"
        },
        "id": "GMAwaQgKx5Tr",
        "outputId": "4def7d04-bdb2-4243-fe80-19b34d729c22"
      },
      "source": [
        "abs(-200)"
      ],
      "execution_count": null,
      "outputs": [
        {
          "output_type": "execute_result",
          "data": {
            "text/plain": [
              "200"
            ]
          },
          "metadata": {
            "tags": []
          },
          "execution_count": 13
        }
      ]
    },
    {
      "cell_type": "markdown",
      "metadata": {
        "id": "NRoJh2CqzwdZ"
      },
      "source": [
        "roundは丸める処理"
      ]
    },
    {
      "cell_type": "code",
      "metadata": {
        "colab": {
          "base_uri": "https://localhost:8080/"
        },
        "id": "tURS-BJszUXh",
        "outputId": "9d053365-51ec-4810-d454-40e9a97f5d28"
      },
      "source": [
        "round(1.235, 2)"
      ],
      "execution_count": null,
      "outputs": [
        {
          "output_type": "execute_result",
          "data": {
            "text/plain": [
              "1.24"
            ]
          },
          "metadata": {
            "tags": []
          },
          "execution_count": 14
        }
      ]
    },
    {
      "cell_type": "markdown",
      "metadata": {
        "id": "h1v3yg0C0TKY"
      },
      "source": [
        "minは最小値、maxは最大値"
      ]
    },
    {
      "cell_type": "code",
      "metadata": {
        "colab": {
          "base_uri": "https://localhost:8080/"
        },
        "id": "8-oGE6cYz1fQ",
        "outputId": "f5d7c875-810c-44c7-cb28-19c6136ecf78"
      },
      "source": [
        "min(51, 32, 676, 24, 11)"
      ],
      "execution_count": null,
      "outputs": [
        {
          "output_type": "execute_result",
          "data": {
            "text/plain": [
              "11"
            ]
          },
          "metadata": {
            "tags": []
          },
          "execution_count": 15
        }
      ]
    },
    {
      "cell_type": "code",
      "metadata": {
        "colab": {
          "base_uri": "https://localhost:8080/"
        },
        "id": "OcHBI4xw0M6g",
        "outputId": "68cd487b-ee51-4ef5-b352-31b45474313d"
      },
      "source": [
        "max(4, 2, 5, 7, 22, 63, 43, 22, 56)"
      ],
      "execution_count": null,
      "outputs": [
        {
          "output_type": "execute_result",
          "data": {
            "text/plain": [
              "63"
            ]
          },
          "metadata": {
            "tags": []
          },
          "execution_count": 16
        }
      ]
    },
    {
      "cell_type": "markdown",
      "metadata": {
        "id": "ykG8ueiC1AfV"
      },
      "source": [
        "import文でモジュール読み込み"
      ]
    },
    {
      "cell_type": "code",
      "metadata": {
        "colab": {
          "base_uri": "https://localhost:8080/"
        },
        "id": "C1PsrpaG0Q0Q",
        "outputId": "7f00e65c-f455-4939-b042-9d7fda5cf309"
      },
      "source": [
        "import math\n",
        "math.sqrt(2.0)"
      ],
      "execution_count": null,
      "outputs": [
        {
          "output_type": "execute_result",
          "data": {
            "text/plain": [
              "1.4142135623730951"
            ]
          },
          "metadata": {
            "tags": []
          },
          "execution_count": 17
        }
      ]
    },
    {
      "cell_type": "code",
      "metadata": {
        "colab": {
          "base_uri": "https://localhost:8080/"
        },
        "id": "xjSHKg2N1F1y",
        "outputId": "b542b515-a648-4a85-9374-c231533927af"
      },
      "source": [
        "import calendar\n",
        "calendar.prmonth(2020, 10)"
      ],
      "execution_count": null,
      "outputs": [
        {
          "output_type": "stream",
          "text": [
            "    October 2020\n",
            "Mo Tu We Th Fr Sa Su\n",
            "          1  2  3  4\n",
            " 5  6  7  8  9 10 11\n",
            "12 13 14 15 16 17 18\n",
            "19 20 21 22 23 24 25\n",
            "26 27 28 29 30 31\n"
          ],
          "name": "stdout"
        }
      ]
    },
    {
      "cell_type": "markdown",
      "metadata": {
        "id": "PffCwMrk8c9_"
      },
      "source": [
        "文字列はシングルクォート、ダブルクォートどちらでも可"
      ]
    },
    {
      "cell_type": "code",
      "metadata": {
        "id": "Nn0PnG_q2U5i",
        "colab": {
          "base_uri": "https://localhost:8080/",
          "height": 35
        },
        "outputId": "8ce3148e-434b-46c0-a173-61e601366e90"
      },
      "source": [
        "'シングルクォート文字列'"
      ],
      "execution_count": null,
      "outputs": [
        {
          "output_type": "execute_result",
          "data": {
            "application/vnd.google.colaboratory.intrinsic+json": {
              "type": "string"
            },
            "text/plain": [
              "'シングルクォート文字列'"
            ]
          },
          "metadata": {
            "tags": []
          },
          "execution_count": 1
        }
      ]
    },
    {
      "cell_type": "code",
      "metadata": {
        "colab": {
          "base_uri": "https://localhost:8080/",
          "height": 35
        },
        "id": "j_vCOeoE-hg_",
        "outputId": "5ee65390-9a37-45b1-a7b9-6c243424555b"
      },
      "source": [
        "\"ダブルクォート文字列\""
      ],
      "execution_count": null,
      "outputs": [
        {
          "output_type": "execute_result",
          "data": {
            "application/vnd.google.colaboratory.intrinsic+json": {
              "type": "string"
            },
            "text/plain": [
              "'ダブルクォート文字列'"
            ]
          },
          "metadata": {
            "tags": []
          },
          "execution_count": 2
        }
      ]
    },
    {
      "cell_type": "code",
      "metadata": {
        "colab": {
          "base_uri": "https://localhost:8080/",
          "height": 35
        },
        "id": "2RIoRcyE-kZm",
        "outputId": "0ceb34b6-038e-4302-b642-208c1b7aa929"
      },
      "source": [
        "\"\""
      ],
      "execution_count": null,
      "outputs": [
        {
          "output_type": "execute_result",
          "data": {
            "application/vnd.google.colaboratory.intrinsic+json": {
              "type": "string"
            },
            "text/plain": [
              "''"
            ]
          },
          "metadata": {
            "tags": []
          },
          "execution_count": 3
        }
      ]
    },
    {
      "cell_type": "markdown",
      "metadata": {
        "id": "oEyZyPdOFFsR"
      },
      "source": [
        "print関数はデータを表示する。複数引数も可能"
      ]
    },
    {
      "cell_type": "code",
      "metadata": {
        "colab": {
          "base_uri": "https://localhost:8080/"
        },
        "id": "mdzC9N6w_LO2",
        "outputId": "fe8baa88-df7d-40ae-bf35-c4eb0c3f1e4d"
      },
      "source": [
        "print(1, \"abc\", 3333)\n",
        "print(\"a\")"
      ],
      "execution_count": null,
      "outputs": [
        {
          "output_type": "stream",
          "text": [
            "1 abc 3333\n",
            "a\n"
          ],
          "name": "stdout"
        }
      ]
    },
    {
      "cell_type": "markdown",
      "metadata": {
        "id": "QIAfkJLdFp2i"
      },
      "source": [
        "input関数は文字列をプロンプトから入力する"
      ]
    },
    {
      "cell_type": "code",
      "metadata": {
        "colab": {
          "base_uri": "https://localhost:8080/"
        },
        "id": "mc8aJw0GFCDI",
        "outputId": "cd50fab0-7614-45e8-bcc3-2419a81e40c7"
      },
      "source": [
        "input_text = input(\"文字列を入力\")"
      ],
      "execution_count": null,
      "outputs": [
        {
          "output_type": "stream",
          "text": [
            "文字列を入力ABCDEFG\n"
          ],
          "name": "stdout"
        }
      ]
    },
    {
      "cell_type": "code",
      "metadata": {
        "colab": {
          "base_uri": "https://localhost:8080/",
          "height": 35
        },
        "id": "RmgpuHe9FjaG",
        "outputId": "68897af5-8710-4512-e903-333fd2ab453e"
      },
      "source": [
        "input_text"
      ],
      "execution_count": null,
      "outputs": [
        {
          "output_type": "execute_result",
          "data": {
            "application/vnd.google.colaboratory.intrinsic+json": {
              "type": "string"
            },
            "text/plain": [
              "'ABCDEFG'"
            ]
          },
          "metadata": {
            "tags": []
          },
          "execution_count": 7
        }
      ]
    },
    {
      "cell_type": "markdown",
      "metadata": {
        "id": "HK-DRLWYGCbh"
      },
      "source": [
        "文字列同士の結合は+演算子で行う。  \n",
        "数値の加算と同じだが、型によって判別される。  \n",
        "数値と文字列を+演算子で足そうとすると、エラー"
      ]
    },
    {
      "cell_type": "code",
      "metadata": {
        "colab": {
          "base_uri": "https://localhost:8080/"
        },
        "id": "iCfyliKsFnE-",
        "outputId": "8e4c2828-8918-46d1-fc89-79255a847078"
      },
      "source": [
        "3 + 4"
      ],
      "execution_count": null,
      "outputs": [
        {
          "output_type": "execute_result",
          "data": {
            "text/plain": [
              "7"
            ]
          },
          "metadata": {
            "tags": []
          },
          "execution_count": 8
        }
      ]
    },
    {
      "cell_type": "code",
      "metadata": {
        "colab": {
          "base_uri": "https://localhost:8080/",
          "height": 35
        },
        "id": "1Q4qDK2RF9dW",
        "outputId": "09d9eab2-d352-4911-d4e7-bc316869f695"
      },
      "source": [
        "\"3\" + \"4\""
      ],
      "execution_count": null,
      "outputs": [
        {
          "output_type": "execute_result",
          "data": {
            "application/vnd.google.colaboratory.intrinsic+json": {
              "type": "string"
            },
            "text/plain": [
              "'34'"
            ]
          },
          "metadata": {
            "tags": []
          },
          "execution_count": 9
        }
      ]
    },
    {
      "cell_type": "code",
      "metadata": {
        "colab": {
          "base_uri": "https://localhost:8080/",
          "height": 168
        },
        "id": "DJB-jTyAF-5W",
        "outputId": "4002ffea-9254-4558-b007-eeca4f13c1e7"
      },
      "source": [
        "3 + \"4\""
      ],
      "execution_count": null,
      "outputs": [
        {
          "output_type": "error",
          "ename": "TypeError",
          "evalue": "ignored",
          "traceback": [
            "\u001b[0;31m---------------------------------------------------------------------------\u001b[0m",
            "\u001b[0;31mTypeError\u001b[0m                                 Traceback (most recent call last)",
            "\u001b[0;32m<ipython-input-10-1007bc53a602>\u001b[0m in \u001b[0;36m<module>\u001b[0;34m()\u001b[0m\n\u001b[0;32m----> 1\u001b[0;31m \u001b[0;36m3\u001b[0m \u001b[0;34m+\u001b[0m \u001b[0;34m\"4\"\u001b[0m\u001b[0;34m\u001b[0m\u001b[0;34m\u001b[0m\u001b[0m\n\u001b[0m",
            "\u001b[0;31mTypeError\u001b[0m: unsupported operand type(s) for +: 'int' and 'str'"
          ]
        }
      ]
    },
    {
      "cell_type": "markdown",
      "metadata": {
        "id": "3PGQllGoHZH8"
      },
      "source": [
        "キャスト関数: intは整数化、floatは実数化、strは文字列化"
      ]
    },
    {
      "cell_type": "code",
      "metadata": {
        "colab": {
          "base_uri": "https://localhost:8080/"
        },
        "id": "a8RPw5ENGAQu",
        "outputId": "b57d4db4-83d5-43f2-e43d-d77557a03217"
      },
      "source": [
        "int(\"123\")"
      ],
      "execution_count": null,
      "outputs": [
        {
          "output_type": "execute_result",
          "data": {
            "text/plain": [
              "123"
            ]
          },
          "metadata": {
            "tags": []
          },
          "execution_count": 14
        }
      ]
    },
    {
      "cell_type": "code",
      "metadata": {
        "colab": {
          "base_uri": "https://localhost:8080/"
        },
        "id": "TDWiL34FHMLv",
        "outputId": "49670118-e2f1-4055-b9b4-2cbe16cc71c5"
      },
      "source": [
        "float(\"123.4\")"
      ],
      "execution_count": null,
      "outputs": [
        {
          "output_type": "execute_result",
          "data": {
            "text/plain": [
              "123.4"
            ]
          },
          "metadata": {
            "tags": []
          },
          "execution_count": 13
        }
      ]
    },
    {
      "cell_type": "code",
      "metadata": {
        "colab": {
          "base_uri": "https://localhost:8080/",
          "height": 35
        },
        "id": "KM4Cpl30HQvw",
        "outputId": "ec0da5f4-8d40-453b-a819-cd742ce09c80"
      },
      "source": [
        "str(123.4)"
      ],
      "execution_count": null,
      "outputs": [
        {
          "output_type": "execute_result",
          "data": {
            "application/vnd.google.colaboratory.intrinsic+json": {
              "type": "string"
            },
            "text/plain": [
              "'123.4'"
            ]
          },
          "metadata": {
            "tags": []
          },
          "execution_count": 16
        }
      ]
    },
    {
      "cell_type": "markdown",
      "metadata": {
        "id": "kp6AV2IHIzXq"
      },
      "source": [
        "文字列にはメソッドが用意されている"
      ]
    },
    {
      "cell_type": "code",
      "metadata": {
        "id": "BSvZpznsHT72"
      },
      "source": [
        "text = \"sample_TEST\""
      ],
      "execution_count": null,
      "outputs": []
    },
    {
      "cell_type": "code",
      "metadata": {
        "colab": {
          "base_uri": "https://localhost:8080/",
          "height": 35
        },
        "id": "WHgc8zszITJv",
        "outputId": "d387d824-0e1a-48d0-828a-dce1d3a1d09d"
      },
      "source": [
        "text.upper()"
      ],
      "execution_count": null,
      "outputs": [
        {
          "output_type": "execute_result",
          "data": {
            "application/vnd.google.colaboratory.intrinsic+json": {
              "type": "string"
            },
            "text/plain": [
              "'SAMPLE_TEST'"
            ]
          },
          "metadata": {
            "tags": []
          },
          "execution_count": 20
        }
      ]
    },
    {
      "cell_type": "code",
      "metadata": {
        "colab": {
          "base_uri": "https://localhost:8080/",
          "height": 35
        },
        "id": "-K2qeD-DIUju",
        "outputId": "91206cca-2c4f-4533-c067-7be72b4a0ea3"
      },
      "source": [
        "text.lower()"
      ],
      "execution_count": null,
      "outputs": [
        {
          "output_type": "execute_result",
          "data": {
            "application/vnd.google.colaboratory.intrinsic+json": {
              "type": "string"
            },
            "text/plain": [
              "'sample_test'"
            ]
          },
          "metadata": {
            "tags": []
          },
          "execution_count": 21
        }
      ]
    },
    {
      "cell_type": "code",
      "metadata": {
        "colab": {
          "base_uri": "https://localhost:8080/"
        },
        "id": "yMd6y-UEIYQG",
        "outputId": "cc8fe0cf-35bc-4b04-e302-1f96d4cc75cb"
      },
      "source": [
        "text.find(\"mp\")"
      ],
      "execution_count": null,
      "outputs": [
        {
          "output_type": "execute_result",
          "data": {
            "text/plain": [
              "2"
            ]
          },
          "metadata": {
            "tags": []
          },
          "execution_count": 22
        }
      ]
    },
    {
      "cell_type": "code",
      "metadata": {
        "colab": {
          "base_uri": "https://localhost:8080/"
        },
        "id": "G0BiIAYbolOM",
        "outputId": "b88e5741-c344-4fe9-d58e-4396f0beb36a"
      },
      "source": [
        "\"123\".isdecimal()"
      ],
      "execution_count": 15,
      "outputs": [
        {
          "output_type": "execute_result",
          "data": {
            "text/plain": [
              "True"
            ]
          },
          "metadata": {
            "tags": []
          },
          "execution_count": 15
        }
      ]
    },
    {
      "cell_type": "code",
      "metadata": {
        "colab": {
          "base_uri": "https://localhost:8080/"
        },
        "id": "5D6kt-iZoqk_",
        "outputId": "ae5faad0-42e5-447e-885a-17153115ad0d"
      },
      "source": [
        "\"x\".isdecimal()"
      ],
      "execution_count": 16,
      "outputs": [
        {
          "output_type": "execute_result",
          "data": {
            "text/plain": [
              "False"
            ]
          },
          "metadata": {
            "tags": []
          },
          "execution_count": 16
        }
      ]
    },
    {
      "cell_type": "markdown",
      "metadata": {
        "id": "OOf-2xYdJVKp"
      },
      "source": [
        "数値にも同様にメソッドが用意されている"
      ]
    },
    {
      "cell_type": "code",
      "metadata": {
        "colab": {
          "base_uri": "https://localhost:8080/"
        },
        "id": "VvOuN2FZIxLH",
        "outputId": "89bbf14c-163f-476b-d92c-b5152f563426"
      },
      "source": [
        "num = 1.5\n",
        "num.as_integer_ratio()"
      ],
      "execution_count": null,
      "outputs": [
        {
          "output_type": "execute_result",
          "data": {
            "text/plain": [
              "(3, 2)"
            ]
          },
          "metadata": {
            "tags": []
          },
          "execution_count": 24
        }
      ]
    },
    {
      "cell_type": "markdown",
      "metadata": {
        "id": "ZQO_8KEqmdZO"
      },
      "source": [
        "不等号で大小比較が可能。数値だけでなく文字列も。結果はブール型"
      ]
    },
    {
      "cell_type": "code",
      "metadata": {
        "id": "y3uSWDMdJbZ3",
        "colab": {
          "base_uri": "https://localhost:8080/"
        },
        "outputId": "3b1abc20-93b4-4be6-cd8e-468d8984e885"
      },
      "source": [
        "2 > 1"
      ],
      "execution_count": 1,
      "outputs": [
        {
          "output_type": "execute_result",
          "data": {
            "text/plain": [
              "True"
            ]
          },
          "metadata": {
            "tags": []
          },
          "execution_count": 1
        }
      ]
    },
    {
      "cell_type": "code",
      "metadata": {
        "colab": {
          "base_uri": "https://localhost:8080/"
        },
        "id": "FSpOYDWWl3F6",
        "outputId": "0f2950d3-0a68-4564-e3df-b1af53ca98e3"
      },
      "source": [
        "2 < 1"
      ],
      "execution_count": 2,
      "outputs": [
        {
          "output_type": "execute_result",
          "data": {
            "text/plain": [
              "False"
            ]
          },
          "metadata": {
            "tags": []
          },
          "execution_count": 2
        }
      ]
    },
    {
      "cell_type": "code",
      "metadata": {
        "colab": {
          "base_uri": "https://localhost:8080/"
        },
        "id": "_KFj9G68mMEA",
        "outputId": "41bd8b4f-82f3-417e-9745-fbbb31d3ef62"
      },
      "source": [
        "2 >= 1"
      ],
      "execution_count": 3,
      "outputs": [
        {
          "output_type": "execute_result",
          "data": {
            "text/plain": [
              "True"
            ]
          },
          "metadata": {
            "tags": []
          },
          "execution_count": 3
        }
      ]
    },
    {
      "cell_type": "code",
      "metadata": {
        "colab": {
          "base_uri": "https://localhost:8080/"
        },
        "id": "1hphZg5xmNjx",
        "outputId": "789c1aeb-ed87-4dec-c123-fccf0fc60e47"
      },
      "source": [
        "\"b\" > \"a\""
      ],
      "execution_count": 4,
      "outputs": [
        {
          "output_type": "execute_result",
          "data": {
            "text/plain": [
              "True"
            ]
          },
          "metadata": {
            "tags": []
          },
          "execution_count": 4
        }
      ]
    },
    {
      "cell_type": "markdown",
      "metadata": {
        "id": "FTFXfQl6mmPC"
      },
      "source": [
        "等値(==), 不等(!=)の比較も可能"
      ]
    },
    {
      "cell_type": "code",
      "metadata": {
        "colab": {
          "base_uri": "https://localhost:8080/"
        },
        "id": "c-f14Boqmbeg",
        "outputId": "6cb31a87-1b0a-49bd-f6a8-debc29dcdb73"
      },
      "source": [
        "\"abc\" == \"abc\""
      ],
      "execution_count": 5,
      "outputs": [
        {
          "output_type": "execute_result",
          "data": {
            "text/plain": [
              "True"
            ]
          },
          "metadata": {
            "tags": []
          },
          "execution_count": 5
        }
      ]
    },
    {
      "cell_type": "code",
      "metadata": {
        "colab": {
          "base_uri": "https://localhost:8080/"
        },
        "id": "K2WSNaG0ms0Y",
        "outputId": "5289a426-a9dc-4e18-f8b3-2bd0cd665718"
      },
      "source": [
        "\"abc\" != \"def\""
      ],
      "execution_count": 6,
      "outputs": [
        {
          "output_type": "execute_result",
          "data": {
            "text/plain": [
              "True"
            ]
          },
          "metadata": {
            "tags": []
          },
          "execution_count": 6
        }
      ]
    },
    {
      "cell_type": "markdown",
      "metadata": {
        "id": "X2mJmj-InbPC"
      },
      "source": [
        "True, Falseはブール型変数に格納可能"
      ]
    },
    {
      "cell_type": "code",
      "metadata": {
        "id": "CndqI4vLmvO4"
      },
      "source": [
        "bool_var = True"
      ],
      "execution_count": 7,
      "outputs": []
    },
    {
      "cell_type": "code",
      "metadata": {
        "colab": {
          "base_uri": "https://localhost:8080/"
        },
        "id": "DTYnEKeWnhdQ",
        "outputId": "84e8e39b-9e89-480e-b145-41929872b8bd"
      },
      "source": [
        "bool_var"
      ],
      "execution_count": 8,
      "outputs": [
        {
          "output_type": "execute_result",
          "data": {
            "text/plain": [
              "True"
            ]
          },
          "metadata": {
            "tags": []
          },
          "execution_count": 8
        }
      ]
    },
    {
      "cell_type": "markdown",
      "metadata": {
        "id": "XhyaeSAsn20l"
      },
      "source": [
        "ifで条件分岐が可能。\n",
        "ifブロックは条件式がTrueの時だけ実行される"
      ]
    },
    {
      "cell_type": "code",
      "metadata": {
        "colab": {
          "base_uri": "https://localhost:8080/"
        },
        "id": "xLa3xrrpniq4",
        "outputId": "dadee1c6-afbc-4ca6-fcb8-df640918daba"
      },
      "source": [
        "if 2 > 1:\n",
        "  print(\"true!\")\n",
        "print(\"after if\")"
      ],
      "execution_count": 10,
      "outputs": [
        {
          "output_type": "stream",
          "text": [
            "true!\n",
            "after if\n"
          ],
          "name": "stdout"
        }
      ]
    },
    {
      "cell_type": "code",
      "metadata": {
        "colab": {
          "base_uri": "https://localhost:8080/"
        },
        "id": "jm4JTyFqns1o",
        "outputId": "cdef439b-5352-4d38-c288-9eca4c0499ed"
      },
      "source": [
        "if 2 < 1:\n",
        "  print(\"true!\")\n",
        "print(\"after if\")"
      ],
      "execution_count": 12,
      "outputs": [
        {
          "output_type": "stream",
          "text": [
            "after if\n"
          ],
          "name": "stdout"
        }
      ]
    },
    {
      "cell_type": "markdown",
      "metadata": {
        "id": "ka8GbszhoOUb"
      },
      "source": [
        "else文は条件が満たされない場合のみ実行される"
      ]
    },
    {
      "cell_type": "code",
      "metadata": {
        "colab": {
          "base_uri": "https://localhost:8080/"
        },
        "id": "uCXRs7Bgn1Qq",
        "outputId": "c025602d-5415-4a59-feea-10d858494439"
      },
      "source": [
        "if 2 < 1:\n",
        "  print(\"true!\")\n",
        "else:\n",
        "  print(\"false!\")\n",
        "print(\"after if\")"
      ],
      "execution_count": 13,
      "outputs": [
        {
          "output_type": "stream",
          "text": [
            "false!\n",
            "after if\n"
          ],
          "name": "stdout"
        }
      ]
    },
    {
      "cell_type": "markdown",
      "metadata": {
        "id": "_ANtNPpCo69_"
      },
      "source": [
        "elif文で複数の条件分岐が可能"
      ]
    },
    {
      "cell_type": "code",
      "metadata": {
        "colab": {
          "base_uri": "https://localhost:8080/"
        },
        "id": "NiWxeSnaoZXY",
        "outputId": "f3f5b321-7d55-445d-946f-53a16ab50e7c"
      },
      "source": [
        "sample_val = 50\n",
        "if sample_val < 20:\n",
        "  print(\"A\")\n",
        "elif sample_val < 60:\n",
        "  print(\"B\")\n",
        "else:\n",
        "  print(\"C\")\n"
      ],
      "execution_count": 17,
      "outputs": [
        {
          "output_type": "stream",
          "text": [
            "B\n"
          ],
          "name": "stdout"
        }
      ]
    },
    {
      "cell_type": "code",
      "metadata": {
        "id": "GAAr2ZLrpVt5"
      },
      "source": [
        ""
      ],
      "execution_count": null,
      "outputs": []
    }
  ]
}